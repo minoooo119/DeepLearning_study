{
  "nbformat": 4,
  "nbformat_minor": 0,
  "metadata": {
    "colab": {
      "provenance": [],
      "authorship_tag": "ABX9TyNl+zZKZxyrXq6uwhuhWQlA",
      "include_colab_link": true
    },
    "kernelspec": {
      "name": "python3",
      "display_name": "Python 3"
    },
    "language_info": {
      "name": "python"
    }
  },
  "cells": [
    {
      "cell_type": "markdown",
      "metadata": {
        "id": "view-in-github",
        "colab_type": "text"
      },
      "source": [
        "<a href=\"https://colab.research.google.com/github/minoooo119/deeplearning_study/blob/main/softmax_mnist.ipynb\" target=\"_parent\"><img src=\"https://colab.research.google.com/assets/colab-badge.svg\" alt=\"Open In Colab\"/></a>"
      ]
    },
    {
      "cell_type": "code",
      "execution_count": 35,
      "metadata": {
        "colab": {
          "base_uri": "https://localhost:8080/"
        },
        "id": "NvtSlE5xje7q",
        "outputId": "e8b74da7-be07-4b15-95e7-a770bc082a09"
      },
      "outputs": [
        {
          "output_type": "stream",
          "name": "stdout",
          "text": [
            "다음 기기로 학습합니다: cpu\n",
            "Epoch: 0001 cost = 0.535150588\n",
            "Epoch: 0002 cost = 0.359577775\n",
            "Epoch: 0003 cost = 0.331264287\n",
            "Epoch: 0004 cost = 0.316404670\n",
            "Epoch: 0005 cost = 0.307107031\n",
            "Epoch: 0006 cost = 0.300456554\n",
            "Epoch: 0007 cost = 0.294933408\n",
            "Epoch: 0008 cost = 0.290956199\n",
            "Epoch: 0009 cost = 0.287074089\n",
            "Epoch: 0010 cost = 0.284515619\n",
            "Epoch: 0011 cost = 0.281914055\n",
            "Epoch: 0012 cost = 0.279526889\n",
            "Epoch: 0013 cost = 0.277636588\n",
            "Epoch: 0014 cost = 0.275874764\n",
            "Epoch: 0015 cost = 0.274422795\n",
            "Epoch: 0016 cost = 0.272883654\n",
            "Epoch: 0017 cost = 0.271629602\n",
            "Epoch: 0018 cost = 0.270609796\n",
            "Epoch: 0019 cost = 0.269295007\n",
            "Epoch: 0020 cost = 0.268277347\n",
            "Epoch: 0021 cost = 0.267255485\n",
            "Epoch: 0022 cost = 0.266613454\n",
            "Epoch: 0023 cost = 0.265661418\n",
            "Epoch: 0024 cost = 0.264922291\n",
            "Epoch: 0025 cost = 0.263888717\n",
            "Epoch: 0026 cost = 0.263269782\n",
            "Epoch: 0027 cost = 0.262586117\n",
            "Epoch: 0028 cost = 0.261751652\n",
            "Epoch: 0029 cost = 0.261135817\n",
            "Epoch: 0030 cost = 0.260536909\n",
            "Learning finished\n"
          ]
        }
      ],
      "source": [
        "import torch\n",
        "import torchvision.datasets as dsets\n",
        "import torchvision.transforms as transforms\n",
        "from torch.utils.data import DataLoader\n",
        "import torch.nn as nn\n",
        "import matplotlib.pyplot as plt\n",
        "import random\n",
        "USE_CUDA = torch.cuda.is_available() # GPU를 사용가능하면 True, 아니라면 False를 리턴\n",
        "device = torch.device(\"cuda\" if USE_CUDA else \"cpu\") # GPU 사용 가능하면 사용하고 아니면 CPU 사용\n",
        "print(\"다음 기기로 학습합니다:\", device)\n",
        "\n",
        "# for reproducibility\n",
        "random.seed(777)\n",
        "torch.manual_seed(777)\n",
        "if device == 'cuda':\n",
        "    torch.cuda.manual_seed_all(777)\n",
        " # hyperparameters\n",
        "training_epochs = 30\n",
        "batch_size = 100\n",
        "# MNIST dataset\n",
        "mnist_train = dsets.MNIST(root='MNIST_data/',\n",
        "                          train=True,\n",
        "                          transform=transforms.ToTensor(),\n",
        "                          download=True)\n",
        "\n",
        "mnist_test = dsets.MNIST(root='MNIST_data/',\n",
        "                         train=False,\n",
        "                         transform=transforms.ToTensor(),\n",
        "                         download=True)\n",
        "\n",
        "# dataset loader\n",
        "data_loader = DataLoader(dataset=mnist_train,\n",
        "                                          batch_size=batch_size, # 배치 크기는 100\n",
        "                                          shuffle=True,\n",
        "                                          drop_last=True)\n",
        "# MNIST data image of shape 28 * 28 = 784\n",
        "linear = nn.Linear(784, 10, bias=True).to(device)\n",
        "\n",
        "# 비용 함수와 옵티마이저 정의\n",
        "criterion = nn.CrossEntropyLoss().to(device) # 내부적으로 소프트맥스 함수를 포함하고 있음.\n",
        "optimizer = torch.optim.SGD(linear.parameters(), lr=0.1)\n",
        "\n",
        "for epoch in range(training_epochs): # 앞서 training_epochs의 값은 15로 지정함.\n",
        "    avg_cost = 0\n",
        "    total_batch = len(data_loader)\n",
        "\n",
        "    for X, Y in data_loader:\n",
        "        # 배치 크기가 100이므로 아래의 연산에서 X는 (100, 784)의 텐서가 된다.\n",
        "        X = X.view(-1, 28 * 28).to(device)\n",
        "        # 레이블은 원-핫 인코딩이 된 상태가 아니라 0 ~ 9의 정수.\n",
        "        Y = Y.to(device)\n",
        "\n",
        "        optimizer.zero_grad()\n",
        "        hypothesis = linear(X)\n",
        "        cost = criterion(hypothesis, Y)\n",
        "        cost.backward()\n",
        "        optimizer.step()\n",
        "\n",
        "        avg_cost += cost / total_batch\n",
        "\n",
        "    print('Epoch:', '%04d' % (epoch + 1), 'cost =', '{:.9f}'.format(avg_cost))\n",
        "\n",
        "print('Learning finished')\n",
        "\n"
      ]
    },
    {
      "cell_type": "code",
      "source": [
        "for epoch in range(training_epochs): # 앞서 training_epochs의 값은 15로 지정함.\n",
        "    avg_cost = 0\n",
        "    total_batch = len(data_loader)\n",
        "\n",
        "    for X, Y in data_loader:\n",
        "        # 배치 크기가 100이므로 아래의 연산에서 X는 (100, 784)의 텐서가 된다.\n",
        "        X = X.view(-1, 28 * 28).to(device)\n",
        "        # 레이블은 원-핫 인코딩이 된 상태가 아니라 0 ~ 9의 정수.\n",
        "        Y = Y.to(device)\n",
        "\n",
        "        optimizer.zero_grad()\n",
        "        hypothesis = linear(X)\n",
        "        cost = criterion(hypothesis, Y)\n",
        "        cost.backward()\n",
        "        optimizer.step()\n",
        "\n",
        "        avg_cost += cost / total_batch\n",
        "\n",
        "    print('Epoch:', '%04d' % (epoch + 1), 'cost =', '{:.9f}'.format(avg_cost))\n",
        "\n",
        "print('Learning finished')\n"
      ],
      "metadata": {
        "colab": {
          "base_uri": "https://localhost:8080/",
          "height": 1000
        },
        "id": "0xyfSO_pqPDl",
        "outputId": "69d5c9fc-74aa-48e3-cef6-e11f8cdfd3f6"
      },
      "execution_count": 45,
      "outputs": [
        {
          "output_type": "stream",
          "name": "stdout",
          "text": [
            "Epoch: 0001 cost = 0.260275453\n",
            "Epoch: 0002 cost = 0.259709090\n",
            "Epoch: 0003 cost = 0.258947134\n",
            "Epoch: 0004 cost = 0.258617997\n",
            "Epoch: 0005 cost = 0.258048773\n",
            "Epoch: 0006 cost = 0.257542819\n",
            "Epoch: 0007 cost = 0.257166386\n",
            "Epoch: 0008 cost = 0.256698728\n",
            "Epoch: 0009 cost = 0.256314337\n",
            "Epoch: 0011 cost = 0.255531222\n",
            "Epoch: 0012 cost = 0.254914343\n",
            "Epoch: 0013 cost = 0.254686505\n",
            "Epoch: 0014 cost = 0.254367441\n",
            "Epoch: 0015 cost = 0.254017055\n",
            "Epoch: 0016 cost = 0.253749520\n",
            "Epoch: 0017 cost = 0.253456146\n",
            "Epoch: 0018 cost = 0.252950668\n",
            "Epoch: 0019 cost = 0.252728969\n",
            "Epoch: 0020 cost = 0.252436072\n",
            "Epoch: 0021 cost = 0.252046257\n",
            "Epoch: 0022 cost = 0.251570165\n",
            "Epoch: 0023 cost = 0.251367420\n",
            "Epoch: 0024 cost = 0.251246393\n",
            "Epoch: 0025 cost = 0.251039475\n",
            "Epoch: 0026 cost = 0.250813097\n",
            "Epoch: 0027 cost = 0.250424027\n",
            "Epoch: 0028 cost = 0.250028580\n",
            "Epoch: 0029 cost = 0.250024080\n",
            "Epoch: 0030 cost = 0.249757975\n",
            "Learning finished\n",
            "Accuracy: 0.869700014591217\n",
            "Label:  8\n",
            "Prediction:  8\n"
          ]
        },
        {
          "output_type": "display_data",
          "data": {
            "text/plain": [
              "<Figure size 640x480 with 1 Axes>"
            ],
            "image/png": "[encoded data removed]"
          },
          "metadata": {}
        }
      ]
    },
    {
      "cell_type": "code",
      "source": [
        "# 테스트 데이터를 사용하여 모델을 테스트한다.\n",
        "with torch.no_grad(): # torch.no_grad()를 하면 gradient 계산을 수행하지 않는다.\n",
        "    X_test = mnist_test.test_data.view(-1, 28 * 28).float().to(device)\n",
        "    Y_test = mnist_test.test_labels.to(device)\n",
        "\n",
        "    prediction = linear(X_test)\n",
        "    correct_prediction = torch.argmax(prediction, 1) == Y_test\n",
        "    accuracy = correct_prediction.float().mean()\n",
        "    print('Accuracy:', accuracy.item())\n",
        "\n",
        "    # MNIST 테스트 데이터에서 무작위로 하나를 뽑아서 예측을 해본다\n",
        "    r = random.randint(0, len(mnist_test) - 1)\n",
        "    X_single_data = mnist_test.test_data[r:r + 1].view(-1, 28 * 28).float().to(device)\n",
        "    Y_single_data = mnist_test.test_labels[r:r + 1].to(device)\n",
        "\n",
        "    print('Label: ', Y_single_data.item())\n",
        "    single_prediction = linear(X_single_data)\n",
        "    print('Prediction: ', torch.argmax(single_prediction, 1).item())\n",
        "\n",
        "    plt.imshow(mnist_test.test_data[r:r + 1].view(28, 28), cmap='Greys', interpolation='nearest')\n",
        "    plt.show()"
      ],
      "metadata": {
        "colab": {
          "base_uri": "https://localhost:8080/",
          "height": 485
        },
        "id": "hw95NdDDyQg0",
        "outputId": "6a00f9c8-4af1-4e70-eb42-46732d90b96a"
      },
      "execution_count": 50,
      "outputs": [
        {
          "output_type": "stream",
          "name": "stdout",
          "text": [
            "Accuracy: 0.869700014591217\n",
            "Label:  9\n",
            "Prediction:  9\n"
          ]
        },
        {
          "output_type": "display_data",
          "data": {
            "text/plain": [
              "<Figure size 640x480 with 1 Axes>"
            ],
            "image/png": "[encoded data removed]"
          },
          "metadata": {}
        }
      ]
    }
  ]
}