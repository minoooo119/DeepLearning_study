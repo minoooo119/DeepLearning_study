{
  "nbformat": 4,
  "nbformat_minor": 0,
  "metadata": {
    "colab": {
      "provenance": [],
      "toc_visible": true,
      "authorship_tag": "ABX9TyNdrSGgyfACckAgmLriKIU2",
      "include_colab_link": true
    },
    "kernelspec": {
      "name": "python3",
      "display_name": "Python 3"
    },
    "language_info": {
      "name": "python"
    }
  },
  "cells": [
    {
      "cell_type": "markdown",
      "metadata": {
        "id": "view-in-github",
        "colab_type": "text"
      },
      "source": [
        "<a href=\"https://colab.research.google.com/github/minoooo119/deeplearning_study/blob/main/%ED%8C%8C%EC%9D%B4%ED%86%A0%EC%B9%98%EB%A1%9C_%EC%8B%9C%EC%9E%91%ED%95%98%EB%8A%94_%EB%94%A5%EB%9F%AC%EB%8B%9D_3.ipynb\" target=\"_parent\"><img src=\"https://colab.research.google.com/assets/colab-badge.svg\" alt=\"Open In Colab\"/></a>"
      ]
    },
    {
      "cell_type": "markdown",
      "source": [
        "# 🤩 선형 회귀 구현 (3장)"
      ],
      "metadata": {
        "id": "eeda6Wz5JM8G"
      }
    },
    {
      "cell_type": "markdown",
      "source": [
        ">해당 내용은 WikiDos: `PyTorch로 시작하는 딥 러닝 입문`을 참고하여 작성하였습니다.  \n",
        "출처: https://wikidocs.net/53545"
      ],
      "metadata": {
        "id": "T-SoCmlEWy8W"
      }
    },
    {
      "cell_type": "markdown",
      "source": [
        "선형 회귀를 위해서 필요한 부분들.\n",
        "아래 내용은 `단순 선형 회귀` 내용이지만 다중 선형 회귀도 같은 방식임을 인지\n",
        "\n",
        "```python\n",
        "#1. 변수 선언\n",
        "x_train = torch.FloatTensor([[1], [2], [3]])\n",
        "y_train = torch.FloatTensor([[2], [4], [6]])\n",
        "```\n",
        "\n",
        "```python\n",
        "#2. 가중치와 편향의 초기화\n",
        "\n",
        "# 가중치 W를 0으로 초기화하고 학습을 통해 값이 변경되는 변수임을 명시함. 편향도 똑같이 초기화\n",
        "W = torch.zeros(1, requires_grad=True)\n",
        "b = torch.zeros(1, requires_grad=True)\n",
        "```\n",
        "위에 1은 차원과 관련해서 알려주고, 뒤 변수는 학습을 통해 값이 변경되는 변수임을 의미합니다.  \n",
        "```python\n",
        "#3. 가설 세우기 --> 해당 내용은 nn.Module 사용시 훨신 간편\n",
        "hypothesis = x_train * W + b #H(x)임 --> forward연산\n",
        "#4. 비용함수 선언 --> 평균 제곱 오차\n",
        "cost = torch.mean((hypothesis - y_train) ** 2)\n",
        "```  \n",
        "```python\n",
        "#5. 경사 하강법 구현\n",
        "optimizer = optim.SGD([W, b], lr=0.01)\n",
        "#옵티마이저에서 경사하강법으로 사용\n",
        "#변수 주고 학습률 준다.\n",
        "\n",
        "# gradient를 0으로 초기화 --> 누적되기때문\n",
        "optimizer.zero_grad()\n",
        "\n",
        "# 비용 함수를 미분하여 gradient 계산\n",
        "cost.backward()\n",
        "\n",
        "# W와 b를 업데이트\n",
        "optimizer.step() #계산 결과 반영하여 최적화 단계 진행 해당 단계에서 가중치 편향 수정됨\n",
        "```  "
      ],
      "metadata": {
        "id": "QkStpZ5pTC9T"
      }
    },
    {
      "cell_type": "markdown",
      "source": [
        "## ☑️ 파이토치로 구현하기\n",
        "\n",
        "$H(x)=w_1x_1+w_2x_2+w_3x_3+b$  \n",
        "처럼 단순 선형 회귀와 다르게 $x$개수가 3개임  \n",
        "**다중 선형 회귀 (Multivariable Linear Regression)**"
      ],
      "metadata": {
        "id": "fZUXrBzY6pow"
      }
    },
    {
      "cell_type": "code",
      "execution_count": null,
      "metadata": {
        "id": "13AtyMXG3vRx"
      },
      "outputs": [],
      "source": [
        "import torch\n",
        "import torch.nn as nn\n",
        "import torch.nn.functional as F\n",
        "import torch.optim as optim\n"
      ]
    },
    {
      "cell_type": "code",
      "source": [
        "torch.manual_seed(1)"
      ],
      "metadata": {
        "colab": {
          "base_uri": "https://localhost:8080/"
        },
        "id": "ZvHzTmua4A_d",
        "outputId": "642de538-8d07-4173-bc97-e7256bc9abcb"
      },
      "execution_count": null,
      "outputs": [
        {
          "output_type": "execute_result",
          "data": {
            "text/plain": [
              "<torch._C.Generator at 0x7b460aded0f0>"
            ]
          },
          "metadata": {},
          "execution_count": 49
        }
      ]
    },
    {
      "cell_type": "code",
      "source": [],
      "metadata": {
        "id": "Ns6HOdqhWPyL"
      },
      "execution_count": null,
      "outputs": []
    },
    {
      "cell_type": "code",
      "source": [
        "# 훈련 데이터\n",
        "x1_train = torch.FloatTensor([[73], [93], [89], [96], [73]])\n",
        "x2_train = torch.FloatTensor([[80], [88], [91], [98], [66]])\n",
        "x3_train = torch.FloatTensor([[75], [93], [90], [100], [70]])\n",
        "y_train = torch.FloatTensor([[152], [185], [180], [196], [142]])\n"
      ],
      "metadata": {
        "id": "-i4sw0p64953"
      },
      "execution_count": null,
      "outputs": []
    },
    {
      "cell_type": "markdown",
      "source": [
        "이에 대해서 가중치, 절편 초기화\n"
      ],
      "metadata": {
        "id": "cy-1vENM7EVz"
      }
    },
    {
      "cell_type": "code",
      "source": [
        "# 가중치 w와 편향 b 초기화\n",
        "w1 = torch.zeros(1, requires_grad=True)\n",
        "w2 = torch.zeros(1, requires_grad=True)\n",
        "w3 = torch.zeros(1, requires_grad=True)\n",
        "b = torch.zeros(1, requires_grad=True)\n"
      ],
      "metadata": {
        "id": "VArvO2A07DcV"
      },
      "execution_count": null,
      "outputs": []
    },
    {
      "cell_type": "markdown",
      "source": [
        "가설, 비용 함수, 옵티마이저 선언 후 경사 하강법 1,000회 반복"
      ],
      "metadata": {
        "id": "gjuldXFeCsP8"
      }
    },
    {
      "cell_type": "code",
      "source": [
        "# optimizer 설정\n",
        "optimizer = optim.SGD([w1, w2, w3, b], lr=1e-5)\n",
        "#에포크 1번당 경사 하강법 1회\n",
        "nb_epochs = 1000\n",
        "for epoch in range(nb_epochs + 1):\n",
        "\n",
        "    # H(x) 계산\n",
        "    hypothesis = x1_train * w1 + x2_train * w2 + x3_train * w3 + b\n",
        "\n",
        "    # cost 계산\n",
        "    cost = torch.mean((hypothesis - y_train) ** 2)\n",
        "\n",
        "    # cost로 H(x) 개선\n",
        "    optimizer.zero_grad() #gradient 누적되기 때문에 매번 초기화 필요\n",
        "    cost.backward() #w1,w2,w3,b 기준으로 gradient 계산\n",
        "    optimizer.step() #이후 learning rate 곱하여 기존 가중치와 절편에서 빼준다.\n",
        "\n",
        "    # 100번마다 로그 출력\n",
        "    if epoch % 100 == 0:\n",
        "        print('Epoch {:4d}/{} w1: {:.3f} w2: {:.3f} w3: {:.3f} b: {:.3f} Cost: {:.6f}'.format(\n",
        "            epoch, nb_epochs, w1.item(), w2.item(), w3.item(), b.item(), cost.item()\n",
        "        ))\n"
      ],
      "metadata": {
        "colab": {
          "base_uri": "https://localhost:8080/"
        },
        "id": "lubBBB6P7CAY",
        "outputId": "e694fe11-1378-4890-9972-cf8576a7dcda"
      },
      "execution_count": null,
      "outputs": [
        {
          "output_type": "stream",
          "name": "stdout",
          "text": [
            "Epoch    0/1000 w1: 0.294 w2: 0.294 w3: 0.297 b: 0.003 Cost: 29661.800781\n",
            "Epoch  100/1000 w1: 0.674 w2: 0.661 w3: 0.676 b: 0.008 Cost: 1.563628\n",
            "Epoch  200/1000 w1: 0.679 w2: 0.655 w3: 0.677 b: 0.008 Cost: 1.497595\n",
            "Epoch  300/1000 w1: 0.684 w2: 0.649 w3: 0.677 b: 0.008 Cost: 1.435044\n",
            "Epoch  400/1000 w1: 0.689 w2: 0.643 w3: 0.678 b: 0.008 Cost: 1.375726\n",
            "Epoch  500/1000 w1: 0.694 w2: 0.638 w3: 0.678 b: 0.009 Cost: 1.319507\n",
            "Epoch  600/1000 w1: 0.699 w2: 0.633 w3: 0.679 b: 0.009 Cost: 1.266222\n",
            "Epoch  700/1000 w1: 0.704 w2: 0.627 w3: 0.679 b: 0.009 Cost: 1.215703\n",
            "Epoch  800/1000 w1: 0.709 w2: 0.622 w3: 0.679 b: 0.009 Cost: 1.167810\n",
            "Epoch  900/1000 w1: 0.713 w2: 0.617 w3: 0.680 b: 0.009 Cost: 1.122429\n",
            "Epoch 1000/1000 w1: 0.718 w2: 0.613 w3: 0.680 b: 0.009 Cost: 1.079390\n"
          ]
        }
      ]
    },
    {
      "cell_type": "markdown",
      "source": [
        "## ☑️ 벡터와 행렬 연산으로 바꾸기\n",
        "### 1️⃣ 벡터 연산으로\n",
        "* 위의 계산에서는 x가 3개 존재해서 직접 가정값 계산 가능\n",
        "* 1000개 이상이라면 힘들기 때문에 벡터 연산으로 진행\n",
        "$H(x)=w_1x_1+w_2x_2+w_3x_3$\n",
        "위 식을 벡터의 내적으로 표현\n",
        "\n",
        "  $\\begin{bmatrix}x_1&x_2&x_3\\\\ \\end{bmatrix}⋅\\begin{bmatrix}w_1\\\\w_2\\\\w_3\\\\ \\end{bmatrix}=\\begin{bmatrix}x_1w_1+x_2w_2+x_3w_3\\\\ \\end{bmatrix} $\n",
        "\n",
        "  로 표현할 수 있음\n",
        "\n",
        "\n",
        "### 2️⃣ 행렬 연산으로\n",
        "* y를 결정 짓는데 있어서 총 샘플이 5개라고 하고 특성이 3개가 있다고 하자 이때 가중치와 계산은 벡터의 연산으로 할 수 없음\n",
        "* 애초에 5×3 행렬과 3×1 행렬의 곱으로 5×1의 결과 y를 결정하게 된다.  \n",
        "\n",
        "  $\\begin{pmatrix}x_{11}&x_{12}&x_{13}\\\\x_{21}&x_{22}&x_{23}\\\\x_{31}&x_{32}&x_{33}\\\\x_{41}&x_{42}&x_{43}\\\\x_{51}&x_{52}&x_{53}\\\\\\end{pmatrix}$$\\begin{pmatrix}w_{1}\\\\w_{2}\\\\w_{3}\\\\\\end{pmatrix}$=$\\begin{pmatrix}x_{11}w_1+x_{12}w_2+x_{13}w_3\\\\x_{21}w_1+x_{22}w_2+x_{23}w_3\\\\x_{31}w_1+x_{32}w_2+x_{33}w_3\\\\x_{41}w_1+x_{42}w_2+x_{43}w_3\\\\x_{51}w_1+x_{52}w_2+x_{53}w_3\\\\ \\end{pmatrix}$\n",
        "\n",
        "  \n",
        "\n",
        "  * 행렬이용해서 다중 선형 회귀 계산 진행 ⬇️"
      ],
      "metadata": {
        "id": "g3UJYgd1Da7P"
      }
    },
    {
      "cell_type": "code",
      "source": [
        "x_train  =  torch.FloatTensor([[73,  80,  75],\n",
        "                               [93,  88,  93],\n",
        "                               [89,  91,  80],\n",
        "                               [96,  98,  100],\n",
        "                               [73,  66,  70]])\n",
        "y_train  =  torch.FloatTensor([[152],  [185],  [180],  [196],  [142]])\n",
        "#특성 3개 5개의 샘플 5*3"
      ],
      "metadata": {
        "id": "p1La04rVDTWJ"
      },
      "execution_count": null,
      "outputs": []
    },
    {
      "cell_type": "code",
      "source": [
        "print(x_train.shape)\n",
        "print(y_train.shape)\n"
      ],
      "metadata": {
        "colab": {
          "base_uri": "https://localhost:8080/"
        },
        "id": "YiouIAZHHy8H",
        "outputId": "5e1d972c-3f91-4657-d6e6-1301a8a8597b"
      },
      "execution_count": null,
      "outputs": [
        {
          "output_type": "stream",
          "name": "stdout",
          "text": [
            "torch.Size([5, 3])\n",
            "torch.Size([5, 1])\n"
          ]
        }
      ]
    },
    {
      "cell_type": "code",
      "source": [
        "# 가중치와 편향 선언\n",
        "W = torch.zeros((3, 1), requires_grad=True)\n",
        "b = torch.zeros(1, requires_grad=True)\n",
        "#가중치는 3*1 벡터임 --> 각 특성에 대해서 가중치가 필요한 거니까 특성 수와 같아야함"
      ],
      "metadata": {
        "id": "uWlMsGqhH40r"
      },
      "execution_count": null,
      "outputs": []
    },
    {
      "cell_type": "code",
      "source": [
        "# optimizer 설정\n",
        "optimizer = optim.SGD([W, b], lr=1e-5)\n",
        "\n",
        "nb_epochs = 1000\n",
        "for epoch in range(nb_epochs + 1):\n",
        "\n",
        "    # H(x) 계산\n",
        "    # 편향 b는 브로드 캐스팅되어 각 샘플에 더해집니다.\n",
        "    hypothesis = x_train.matmul(W) + b\n",
        "    #가중치와 곱해줌\n",
        "    #위 부분이 행렬을 이용해서 개선된 부분\n",
        "\n",
        "    # cost 계산\n",
        "    #가설과 실제 값의 편차 제곱의 평균\n",
        "    cost = torch.mean((hypothesis - y_train) ** 2)\n",
        "\n",
        "    # cost로 H(x) 개선\n",
        "    optimizer.zero_grad()\n",
        "    cost.backward()\n",
        "    optimizer.step()\n",
        "    if epoch%100==0:\n",
        "      print('Epoch {:4d}/{} hypothesis: {} Cost: {:.6f}'.format(\n",
        "          epoch, nb_epochs, hypothesis.squeeze().detach(), cost.item()\n",
        "      ))"
      ],
      "metadata": {
        "colab": {
          "base_uri": "https://localhost:8080/"
        },
        "id": "A6WPiD1VIOIw",
        "outputId": "d4222871-8a8d-45f2-c6ec-1b754ba56bea"
      },
      "execution_count": null,
      "outputs": [
        {
          "output_type": "stream",
          "name": "stdout",
          "text": [
            "Epoch    0/1000 hypothesis: tensor([152.6685, 184.5856, 179.4857, 196.1604, 142.2285]) Cost: 0.192199\n",
            "Epoch  100/1000 hypothesis: tensor([152.6628, 184.5864, 179.4926, 196.1545, 142.2333]) Cost: 0.189211\n",
            "Epoch  200/1000 hypothesis: tensor([152.6572, 184.5872, 179.4994, 196.1487, 142.2380]) Cost: 0.186330\n",
            "Epoch  300/1000 hypothesis: tensor([152.6517, 184.5880, 179.5060, 196.1430, 142.2426]) Cost: 0.183563\n",
            "Epoch  400/1000 hypothesis: tensor([152.6464, 184.5889, 179.5125, 196.1374, 142.2472]) Cost: 0.180887\n",
            "Epoch  500/1000 hypothesis: tensor([152.6411, 184.5897, 179.5189, 196.1319, 142.2517]) Cost: 0.178310\n",
            "Epoch  600/1000 hypothesis: tensor([152.6359, 184.5905, 179.5251, 196.1266, 142.2561]) Cost: 0.175835\n",
            "Epoch  700/1000 hypothesis: tensor([152.6308, 184.5913, 179.5312, 196.1213, 142.2605]) Cost: 0.173442\n",
            "Epoch  800/1000 hypothesis: tensor([152.6257, 184.5921, 179.5372, 196.1161, 142.2647]) Cost: 0.171142\n",
            "Epoch  900/1000 hypothesis: tensor([152.6208, 184.5928, 179.5430, 196.1110, 142.2689]) Cost: 0.168919\n",
            "Epoch 1000/1000 hypothesis: tensor([152.6159, 184.5936, 179.5488, 196.1061, 142.2731]) Cost: 0.166783\n"
          ]
        }
      ]
    },
    {
      "cell_type": "code",
      "source": [],
      "metadata": {
        "id": "CUeGAFObIUBZ"
      },
      "execution_count": null,
      "outputs": []
    },
    {
      "cell_type": "markdown",
      "source": [
        "## ☑️ nn.Module로 구현하는 선형회귀\n",
        ">지금까지는 선형회귀의 직접적인 이해를 위해 `가설`, `비용함수`를 직접 정의해서 선형 회귀 모델 구현했음.\n",
        "\n",
        "> 이제부터 이미 구현되어 있는 함수로 더 쉽게 선형 회귀 모델 구현.\n",
        "\n",
        "```python\n",
        "import torch.nn as nn\n",
        "model=nn.Linear(input_dim,output_dim)\n",
        "import torch.nn.functional as F\n",
        "cost=F.mse_loss(prediction,y_train)\n",
        "```"
      ],
      "metadata": {
        "id": "nG3XImzfKAmy"
      }
    },
    {
      "cell_type": "markdown",
      "source": [
        "### 🟡 단순 선형 회귀"
      ],
      "metadata": {
        "id": "3mIZ8SnbK1R_"
      }
    },
    {
      "cell_type": "code",
      "source": [
        "import torch\n",
        "import torch.nn as nn\n",
        "import torch.nn.functional as F"
      ],
      "metadata": {
        "id": "ffteksG-Kz80"
      },
      "execution_count": 3,
      "outputs": []
    },
    {
      "cell_type": "code",
      "source": [
        "torch.manual_seed(1)"
      ],
      "metadata": {
        "colab": {
          "base_uri": "https://localhost:8080/"
        },
        "id": "B_Q9phJ4KyPa",
        "outputId": "590aeb4a-2f25-439a-d5d4-c440cab2c2be"
      },
      "execution_count": 4,
      "outputs": [
        {
          "output_type": "execute_result",
          "data": {
            "text/plain": [
              "<torch._C.Generator at 0x7abebd3953d0>"
            ]
          },
          "metadata": {},
          "execution_count": 4
        }
      ]
    },
    {
      "cell_type": "markdown",
      "source": [
        "데이터 선언 --> 이미 값 알고 있는 데이터로 진행"
      ],
      "metadata": {
        "id": "yKeKCN4bK_mE"
      }
    },
    {
      "cell_type": "code",
      "source": [
        "# 데이터\n",
        "x_train = torch.FloatTensor([[1], [2], [3]])\n",
        "y_train = torch.FloatTensor([[2], [4], [6]])\n",
        "#해당 선형 식이 y=2x임을 알고 있음"
      ],
      "metadata": {
        "id": "T2gKzxrHKe-i"
      },
      "execution_count": 5,
      "outputs": []
    },
    {
      "cell_type": "code",
      "source": [
        "# 모델을 선언 및 초기화. 단순 선형 회귀이므로 input_dim=1, output_dim=1.\n",
        "model = nn.Linear(1,1)\n",
        "#입력의 차원과 출력의 차원을 인수로 받음\n",
        "#현재 입력 차원 1차원, 출력 차원 1차원임 -> 하나의 x에 대해서 하나의 y 값을 가지기 때문"
      ],
      "metadata": {
        "id": "yzbBRik7LIFa"
      },
      "execution_count": 6,
      "outputs": []
    },
    {
      "cell_type": "markdown",
      "source": [
        "해당 모델에는 가중치 W와 편향 b가 저장되어있음\n",
        "model.parameters()함수로 확인 가능"
      ],
      "metadata": {
        "id": "-8sqZBdVLZcs"
      }
    },
    {
      "cell_type": "code",
      "source": [
        "print(list(model.parameters()))\n",
        "#출력 순서대로 W와 b에 해당한다.\n",
        "#처음에는 랜덤으로 초기화가 되어져 있다."
      ],
      "metadata": {
        "colab": {
          "base_uri": "https://localhost:8080/"
        },
        "id": "KmekbgJlLiDj",
        "outputId": "9b81e407-ccf3-4393-f35e-4b63acb44d91"
      },
      "execution_count": 7,
      "outputs": [
        {
          "output_type": "stream",
          "name": "stdout",
          "text": [
            "[Parameter containing:\n",
            "tensor([[0.5153]], requires_grad=True), Parameter containing:\n",
            "tensor([-0.4414], requires_grad=True)]\n"
          ]
        }
      ]
    },
    {
      "cell_type": "code",
      "source": [
        "#옵티 마이저 정의\n",
        "#W, b 전달 후 학습률도 정함\n",
        "\n",
        "# optimizer 설정. 경사 하강법 SGD를 사용하고 learning rate를 의미하는 lr은 0.01\n",
        "optimizer = torch.optim.SGD(model.parameters(), lr=0.01)"
      ],
      "metadata": {
        "id": "f0ilo6-CLjte"
      },
      "execution_count": 8,
      "outputs": []
    },
    {
      "cell_type": "markdown",
      "source": [
        "학습 시작"
      ],
      "metadata": {
        "id": "kNXFv6TJMGpw"
      }
    },
    {
      "cell_type": "code",
      "source": [
        "# 전체 훈련 데이터에 대해 경사 하강법을 2,000회 반복\n",
        "nb_epochs = 2000\n",
        "for epoch in range(nb_epochs+1):\n",
        "\n",
        "    # H(x) 계산\n",
        "    prediction = model(x_train) #전과 다르게 이제는 이렇게 가정값(예측값) 구한다\n",
        "\n",
        "    # cost 계산\n",
        "    cost = F.mse_loss(prediction, y_train) # <== 파이토치에서 제공하는 평균 제곱 오차 함수\n",
        "\n",
        "    # cost로 H(x) 개선하는 부분\n",
        "    # gradient를 0으로 초기화\n",
        "    optimizer.zero_grad()\n",
        "    # 비용 함수를 미분하여 gradient 계산\n",
        "    cost.backward() # backward 연산 --> model parameter인 W.b에 대해서 gradient 구함\n",
        "    # W와 b를 업데이트\n",
        "    optimizer.step()\n",
        "\n",
        "    if epoch % 100 == 0:\n",
        "    # 100번마다 로그 출력\n",
        "      print('Epoch {:4d}/{} Cost: {:.6f}'.format(\n",
        "          epoch, nb_epochs, cost.item()\n",
        "      ))\n"
      ],
      "metadata": {
        "colab": {
          "base_uri": "https://localhost:8080/"
        },
        "id": "5C_EuL5dMDTz",
        "outputId": "d3be0824-a222-4617-caab-772ea721bf07"
      },
      "execution_count": 9,
      "outputs": [
        {
          "output_type": "stream",
          "name": "stdout",
          "text": [
            "Epoch    0/2000 Cost: 13.103541\n",
            "Epoch  100/2000 Cost: 0.002791\n",
            "Epoch  200/2000 Cost: 0.001724\n",
            "Epoch  300/2000 Cost: 0.001066\n",
            "Epoch  400/2000 Cost: 0.000658\n",
            "Epoch  500/2000 Cost: 0.000407\n",
            "Epoch  600/2000 Cost: 0.000251\n",
            "Epoch  700/2000 Cost: 0.000155\n",
            "Epoch  800/2000 Cost: 0.000096\n",
            "Epoch  900/2000 Cost: 0.000059\n",
            "Epoch 1000/2000 Cost: 0.000037\n",
            "Epoch 1100/2000 Cost: 0.000023\n",
            "Epoch 1200/2000 Cost: 0.000014\n",
            "Epoch 1300/2000 Cost: 0.000009\n",
            "Epoch 1400/2000 Cost: 0.000005\n",
            "Epoch 1500/2000 Cost: 0.000003\n",
            "Epoch 1600/2000 Cost: 0.000002\n",
            "Epoch 1700/2000 Cost: 0.000001\n",
            "Epoch 1800/2000 Cost: 0.000001\n",
            "Epoch 1900/2000 Cost: 0.000000\n",
            "Epoch 2000/2000 Cost: 0.000000\n"
          ]
        }
      ]
    },
    {
      "cell_type": "markdown",
      "source": [
        "학습 완료 --> Cost 값이 매우 작은 것을 확인할 수 있음\n",
        "와 b가 최적화 되었는지 확인해보자\n",
        "\n",
        "값을 넣어서 예측값이 맞는지 확인, 학습 후 W와 b값도 확인"
      ],
      "metadata": {
        "id": "d7qoCFL2MKfl"
      }
    },
    {
      "cell_type": "code",
      "source": [
        "# 임의의 입력 4를 선언\n",
        "new_var =  torch.FloatTensor([[4.0]])\n",
        "# 입력한 값 4에 대해서 예측값 y를 리턴받아서 pred_y에 저장\n",
        "pred_y = model(new_var) # forward 연산\n",
        "# y = 2x 이므로 입력이 4라면 y가 8에 가까운 값이 나와야 제대로 학습이 된 것\n",
        "print(\"훈련 후 입력이 4일 때의 예측값 :\", pred_y)\n",
        "print(list(model.parameters()))"
      ],
      "metadata": {
        "colab": {
          "base_uri": "https://localhost:8080/"
        },
        "id": "Ink4WZZ-MH_L",
        "outputId": "161cee9b-eb53-452c-ac7d-89c7d48cabcd"
      },
      "execution_count": 10,
      "outputs": [
        {
          "output_type": "stream",
          "name": "stdout",
          "text": [
            "훈련 후 입력이 4일 때의 예측값 : tensor([[7.9989]], grad_fn=<AddmmBackward0>)\n",
            "[Parameter containing:\n",
            "tensor([[1.9994]], requires_grad=True), Parameter containing:\n",
            "tensor([0.0014], requires_grad=True)]\n"
          ]
        }
      ]
    },
    {
      "cell_type": "markdown",
      "source": [
        "해당 결과가 잘 나옴을 확인 --> W의 값이 2에 가깝고 b가 0에 가까우므로 잘 학습이 된 것을 확인할 수 있다."
      ],
      "metadata": {
        "id": "XHqbsX_OMj9z"
      }
    },
    {
      "cell_type": "markdown",
      "source": [
        "### 🟡 다중 선형 회귀 구현\n",
        ">사용했던 함수를 이용하여 다중 선형 회귀를 구현해보자"
      ],
      "metadata": {
        "id": "lrGfTlorNAb4"
      }
    },
    {
      "cell_type": "code",
      "source": [
        "import torch\n",
        "import torch.nn as nn\n",
        "import torch.nn.functional as F\n"
      ],
      "metadata": {
        "id": "vjJXJI9bMUYS"
      },
      "execution_count": 11,
      "outputs": []
    },
    {
      "cell_type": "code",
      "source": [
        "torch.manual_seed(1)\n"
      ],
      "metadata": {
        "colab": {
          "base_uri": "https://localhost:8080/"
        },
        "id": "qDsMHUsfNYcZ",
        "outputId": "3054779d-8a68-4e85-ddab-75555297b871"
      },
      "execution_count": 12,
      "outputs": [
        {
          "output_type": "execute_result",
          "data": {
            "text/plain": [
              "<torch._C.Generator at 0x7abebd3953d0>"
            ]
          },
          "metadata": {},
          "execution_count": 12
        }
      ]
    },
    {
      "cell_type": "markdown",
      "source": [
        "이번에는 샘플이 가지는 특성이 3개가 존재한다. 즉, input 차원은 3차원이 된다. output은 여전히 y 하나이므로 1이다.\n",
        "> 인풋 수, 아웃풋 수 ==> 샘플 당 특성 수, 결과 특성 수"
      ],
      "metadata": {
        "id": "eIY97MzSNcDi"
      }
    },
    {
      "cell_type": "code",
      "source": [
        "# 데이터\n",
        "x_train = torch.FloatTensor([[73, 80, 75],\n",
        "                             [93, 88, 93],\n",
        "                             [89, 91, 90],\n",
        "                             [96, 98, 100],\n",
        "                             [73, 66, 70]])\n",
        "y_train = torch.FloatTensor([[152], [185], [180], [196], [142]])"
      ],
      "metadata": {
        "id": "6T9PRm9gOoyo"
      },
      "execution_count": 13,
      "outputs": []
    },
    {
      "cell_type": "code",
      "source": [
        "# 모델을 선언 및 초기화. 다중 선형 회귀이므로 input_dim=3, output_dim=1.\n",
        "model = nn.Linear(3,1)"
      ],
      "metadata": {
        "id": "p0RYMuwINbxH"
      },
      "execution_count": 14,
      "outputs": []
    },
    {
      "cell_type": "code",
      "source": [
        "print(list(model.parameters()))\n",
        "#가중치 3개 랜덤 값과, 편향 b의 랜덤값을 가지고 있다"
      ],
      "metadata": {
        "colab": {
          "base_uri": "https://localhost:8080/"
        },
        "id": "r-4ak6Y9NaMM",
        "outputId": "fabf8b7b-b54f-469b-e88f-da4c4c5aafa2"
      },
      "execution_count": 15,
      "outputs": [
        {
          "output_type": "stream",
          "name": "stdout",
          "text": [
            "[Parameter containing:\n",
            "tensor([[ 0.2975, -0.2548, -0.1119]], requires_grad=True), Parameter containing:\n",
            "tensor([0.2710], requires_grad=True)]\n"
          ]
        }
      ]
    },
    {
      "cell_type": "code",
      "source": [
        "#계속 진행한 것 처럼 옵티마이저 정의\n",
        "#단, 이번엔 Learing Rate 조금 더 작게 줌 --> 발산 방지\n",
        "optimizer = torch.optim.SGD(model.parameters(), lr=1e-5)\n",
        "#이렇게 진행시 발산해서 안됨\n",
        "#optimizer = torch.optim.SGD(model.parameters(), lr=0.01)"
      ],
      "metadata": {
        "id": "XLCwdgikN-Cy"
      },
      "execution_count": 16,
      "outputs": []
    },
    {
      "cell_type": "markdown",
      "source": [
        "![image.png](data:image/png;base64,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)"
      ],
      "metadata": {
        "id": "cgD48AL1PZvM"
      }
    },
    {
      "cell_type": "code",
      "source": [
        "nb_epochs = 2000\n",
        "for epoch in range(nb_epochs+1):\n",
        "\n",
        "    # H(x) 계산\n",
        "    prediction = model(x_train)\n",
        "    # model(x_train)은 model.forward(x_train)와 동일함.\n",
        "\n",
        "    # cost 계산\n",
        "    cost = F.mse_loss(prediction, y_train) # <== 파이토치에서 제공하는 평균 제곱 오차 함수\n",
        "\n",
        "    # cost로 H(x) 개선하는 부분\n",
        "    # gradient를 0으로 초기화\n",
        "    optimizer.zero_grad()\n",
        "    # 비용 함수를 미분하여 gradient 계산\n",
        "    cost.backward()\n",
        "    # W와 b를 업데이트\n",
        "    optimizer.step()\n",
        "\n",
        "    if epoch % 100 == 0:\n",
        "    # 100번마다 로그 출력\n",
        "      print('Epoch {:4d}/{} Cost: {:.6f}'.format(\n",
        "          epoch, nb_epochs, cost.item()\n",
        "      ))\n"
      ],
      "metadata": {
        "colab": {
          "base_uri": "https://localhost:8080/"
        },
        "id": "6S2tJNyoOL3e",
        "outputId": "cebf7fce-d0b4-4da9-91f9-b425adbc11bf"
      },
      "execution_count": 17,
      "outputs": [
        {
          "output_type": "stream",
          "name": "stdout",
          "text": [
            "Epoch    0/2000 Cost: 31667.597656\n",
            "Epoch  100/2000 Cost: 0.225993\n",
            "Epoch  200/2000 Cost: 0.223911\n",
            "Epoch  300/2000 Cost: 0.221941\n",
            "Epoch  400/2000 Cost: 0.220059\n",
            "Epoch  500/2000 Cost: 0.218271\n",
            "Epoch  600/2000 Cost: 0.216575\n",
            "Epoch  700/2000 Cost: 0.214950\n",
            "Epoch  800/2000 Cost: 0.213413\n",
            "Epoch  900/2000 Cost: 0.211952\n",
            "Epoch 1000/2000 Cost: 0.210560\n",
            "Epoch 1100/2000 Cost: 0.209232\n",
            "Epoch 1200/2000 Cost: 0.207967\n",
            "Epoch 1300/2000 Cost: 0.206761\n",
            "Epoch 1400/2000 Cost: 0.205619\n",
            "Epoch 1500/2000 Cost: 0.204522\n",
            "Epoch 1600/2000 Cost: 0.203484\n",
            "Epoch 1700/2000 Cost: 0.202485\n",
            "Epoch 1800/2000 Cost: 0.201542\n",
            "Epoch 1900/2000 Cost: 0.200635\n",
            "Epoch 2000/2000 Cost: 0.199769\n"
          ]
        }
      ]
    },
    {
      "cell_type": "markdown",
      "source": [
        "매우 낮은 cost 확인 가능\n",
        "\n",
        "이에 대해 다른 샘플에 대해서 예측값 test"
      ],
      "metadata": {
        "id": "fV6EaWUqPsQP"
      }
    },
    {
      "cell_type": "code",
      "source": [
        "# 임의의 입력 [73, 80, 75]를 선언\n",
        "new_var =  torch.FloatTensor([[73, 80, 75]])\n",
        "# 입력한 값 [73, 80, 75]에 대해서 예측값 y를 리턴받아서 pred_y에 저장\n",
        "pred_y = model(new_var)\n",
        "print(\"훈련 후 입력이 73, 80, 75일 때의 예측값 :\", pred_y)\n",
        "#훈련된 가중치와 편향 출력\n",
        "print(list(model.parameters()))"
      ],
      "metadata": {
        "colab": {
          "base_uri": "https://localhost:8080/"
        },
        "id": "FzRW-ujVOUFl",
        "outputId": "03eae8e3-a0a9-42af-b2c2-ae8c955b04ac"
      },
      "execution_count": 18,
      "outputs": [
        {
          "output_type": "stream",
          "name": "stdout",
          "text": [
            "훈련 후 입력이 73, 80, 75일 때의 예측값 : tensor([[151.2305]], grad_fn=<AddmmBackward0>)\n",
            "[Parameter containing:\n",
            "tensor([[0.9778, 0.4539, 0.5768]], requires_grad=True), Parameter containing:\n",
            "tensor([0.2802], requires_grad=True)]\n"
          ]
        }
      ]
    },
    {
      "cell_type": "markdown",
      "source": [
        "## ☑️ 클래스로 파이토치 모델 구현  \n",
        "---\n",
        "* 모델을 클래스로 구현하자\n",
        "* 앞서서 단순 선형 회귀 모델은 아래와 같이 구현함\n",
        "  ```python\n",
        "  model=nn.Linear(1,1)\n",
        "  ```\n",
        "  이를 클래스로 구현해보자  "
      ],
      "metadata": {
        "id": "Wh8nxsbZMZVZ"
      }
    },
    {
      "cell_type": "markdown",
      "source": [
        "### 1️⃣ 모델 구현"
      ],
      "metadata": {
        "id": "5dH031ymOxz4"
      }
    },
    {
      "cell_type": "markdown",
      "source": [
        "단순 선형 회귀 모델"
      ],
      "metadata": {
        "id": "DcEk95_SO-My"
      }
    },
    {
      "cell_type": "code",
      "source": [
        "class LinearRegressionModel(nn.Module): # torch.nn.Module을 상속받는 파이썬 클래스\n",
        "    def __init__(self): #\n",
        "        super().__init__()\n",
        "        self.linear = nn.Linear(1, 1) # 단순 선형 회귀이므로 input_dim=1, output_dim=1.\n",
        "\n",
        "    def forward(self, x):\n",
        "        return self.linear(x)"
      ],
      "metadata": {
        "id": "3dYe-WE0Me5Y"
      },
      "execution_count": 19,
      "outputs": []
    },
    {
      "cell_type": "code",
      "source": [
        "model = LinearRegressionModel()"
      ],
      "metadata": {
        "id": "gqkDaVY8M3Wd"
      },
      "execution_count": 20,
      "outputs": []
    },
    {
      "cell_type": "markdown",
      "source": [
        ">클래스 형태의 모델은 nn.Module을 상속받는다.  \n",
        "그리고 \\_\\_init\\_\\_()에서 모델의 구조와 동작을 정의하는 생성자를 정의.  \n",
        "객체 생성시 자동 호출됨  \n",
        "`super()` 함수를 부르면 nn.Module 클래스의 속성들을 가지고 초기화  \n",
        "`forward()` 함수는 학습 데이터를 입력받아서 forward 연산 진행\n",
        "* ex) model 이름의 객체일 경우 --> model(입력 데이터) 형식으로 호출시 자동으로 forward 수행"
      ],
      "metadata": {
        "id": "nikD_lDnNAhu"
      }
    },
    {
      "cell_type": "markdown",
      "source": [
        "* forward 연산 ==> $H(x)$에 입력값 $x$를 주고 예측값 $y$를 얻는 것을 말함\n",
        "\n",
        "\n",
        "다중 선형 회귀 모델 class 정의"
      ],
      "metadata": {
        "id": "a3BbVNaqN5Tv"
      }
    },
    {
      "cell_type": "code",
      "source": [
        "class MultivariateLinearRegressionModel(nn.Module):\n",
        "    def __init__(self):\n",
        "        super().__init__()\n",
        "        self.linear = nn.Linear(3, 1) # 다중 선형 회귀이므로 input_dim=3, output_dim=1.\n",
        "\n",
        "    def forward(self, x):\n",
        "        return self.linear(x)"
      ],
      "metadata": {
        "id": "2MA7tj40M94G"
      },
      "execution_count": 21,
      "outputs": []
    },
    {
      "cell_type": "code",
      "source": [
        "#전에는 model=nn.Module(3,1) 이런식으로 구현했었음\n",
        "model = MultivariateLinearRegressionModel()"
      ],
      "metadata": {
        "id": "zf7QWEwOOj85"
      },
      "execution_count": null,
      "outputs": []
    },
    {
      "cell_type": "markdown",
      "source": [
        "### 2️⃣ 단순 선형 회귀 클래스로\n",
        "\n",
        "모델을 클래스로 구현"
      ],
      "metadata": {
        "id": "THDgSAtfPUh5"
      }
    },
    {
      "cell_type": "code",
      "source": [
        "import torch\n",
        "import torch.nn as nn\n",
        "import torch.nn.functional as F\n",
        "\n",
        "\n",
        "torch.manual_seed(1)\n",
        "\n",
        "\n",
        "# 데이터\n",
        "x_train = torch.FloatTensor([[1], [2], [3]])\n",
        "y_train = torch.FloatTensor([[2], [4], [6]])\n",
        "#훈련 데이터로 현재 단순 선형이므로 샘플 당 특성이 1개 즉, 가중치가 1개 필요\n",
        "\n",
        "class LinearRegressionModel(nn.Module):\n",
        "    def __init__(self):\n",
        "        super().__init__()\n",
        "        self.linear = nn.Linear(1, 1) #1,1 --> 입력 1차원, 출력 1차원\n",
        "\n",
        "    def forward(self, x):\n",
        "        return self.linear(x)\n",
        "model = LinearRegressionModel()\n",
        "#model --> 선형 회귀 모델 객체됨\n",
        "\n",
        "# optimizer 설정. 경사 하강법 SGD를 사용하고 learning rate를 의미하는 lr은 0.01\n",
        "optimizer = torch.optim.SGD(model.parameters(), lr=0.01)\n",
        "#optimizer 역할: 최적화 알고리즘을 통해 적절하게 W, b를 찾아내기 위해서 존재, 방법은 SGD(slopy gradient descent) 사용\n",
        "\n",
        "#경사 하강법: 위에 해당 parameter에는 W(가중치), b(편향) 존재, 두 변수를 기준으로 MSE(평균 제곱 오차)의 변화율을 구하고\n",
        "#해당 변화율에 lr=학습률 을 곱해서 최소값이 되는 W와 b를 구해내는 방법\n",
        "\n",
        "# 전체 훈련 데이터에 대해 경사 하강법을 2,000회 반복\n",
        "nb_epochs = 2000\n",
        "for epoch in range(nb_epochs+1):\n",
        "\n",
        "    # H(x) 계산\n",
        "    prediction = model(x_train) #예측값에 해당함\n",
        "\n",
        "    # cost 계산\n",
        "    cost = F.mse_loss(prediction, y_train) # <== 파이토치에서 제공하는 평균 제곱 오차 함수\n",
        "\n",
        "    # cost로 H(x) 개선하는 부분\n",
        "    # gradient를 0으로 초기화\n",
        "    optimizer.zero_grad()\n",
        "    # 비용 함수를 미분하여 gradient 계산\n",
        "    cost.backward() # backward 연산\n",
        "    #--> cost를 parameter에 대해서 미분하고 값 해당 .grad에 누적되기때문에 초기화 해주는 것임\n",
        "\n",
        "    # W와 b를 업데이트\n",
        "    optimizer.step()\n",
        "\n",
        "    if epoch % 100 == 0:\n",
        "    # 100번마다 로그 출력\n",
        "      print('Epoch {:4d}/{} Cost: {:.6f}'.format(\n",
        "          epoch, nb_epochs, cost.item()\n",
        "      ))\n"
      ],
      "metadata": {
        "colab": {
          "base_uri": "https://localhost:8080/"
        },
        "id": "_a3TmkGGPaZ6",
        "outputId": "9d7279d8-4b25-4bcf-ce0d-f926cbdd6719"
      },
      "execution_count": 22,
      "outputs": [
        {
          "output_type": "stream",
          "name": "stdout",
          "text": [
            "Epoch    0/2000 Cost: 13.103541\n",
            "Epoch  100/2000 Cost: 0.002791\n",
            "Epoch  200/2000 Cost: 0.001724\n",
            "Epoch  300/2000 Cost: 0.001066\n",
            "Epoch  400/2000 Cost: 0.000658\n",
            "Epoch  500/2000 Cost: 0.000407\n",
            "Epoch  600/2000 Cost: 0.000251\n",
            "Epoch  700/2000 Cost: 0.000155\n",
            "Epoch  800/2000 Cost: 0.000096\n",
            "Epoch  900/2000 Cost: 0.000059\n",
            "Epoch 1000/2000 Cost: 0.000037\n",
            "Epoch 1100/2000 Cost: 0.000023\n",
            "Epoch 1200/2000 Cost: 0.000014\n",
            "Epoch 1300/2000 Cost: 0.000009\n",
            "Epoch 1400/2000 Cost: 0.000005\n",
            "Epoch 1500/2000 Cost: 0.000003\n",
            "Epoch 1600/2000 Cost: 0.000002\n",
            "Epoch 1700/2000 Cost: 0.000001\n",
            "Epoch 1800/2000 Cost: 0.000001\n",
            "Epoch 1900/2000 Cost: 0.000000\n",
            "Epoch 2000/2000 Cost: 0.000000\n"
          ]
        }
      ]
    },
    {
      "cell_type": "markdown",
      "source": [
        "### 3️⃣ 다중 선형 회귀 모델 클래스로\n",
        "\n",
        "단순 선형 회귀 모델과 다른 부분은 훈련 데이터와 가중치의 차원만 다름"
      ],
      "metadata": {
        "id": "FuSq7x8RWbZV"
      }
    },
    {
      "cell_type": "code",
      "source": [
        "import torch\n",
        "import torch.nn as nn\n",
        "import torch.nn.functional as F\n",
        "\n",
        "torch.manual_seed(1)\n",
        "\n",
        "# 데이터\n",
        "x_train = torch.FloatTensor([[73, 80, 75],\n",
        "                             [93, 88, 93],\n",
        "                             [89, 91, 90],\n",
        "                             [96, 98, 100],\n",
        "                             [73, 66, 70]])\n",
        "y_train = torch.FloatTensor([[152], [185], [180], [196], [142]])\n",
        "\n",
        "class MultivariateLinearRegressionModel(nn.Module):\n",
        "    def __init__(self):\n",
        "        super().__init__()\n",
        "        self.linear = nn.Linear(3, 1) # 다중 선형 회귀이므로 input_dim=3, output_dim=1.\n",
        "\n",
        "    def forward(self, x):\n",
        "        return self.linear(x)\n",
        "\n",
        "model = MultivariateLinearRegressionModel()\n",
        "\n",
        "optimizer = torch.optim.SGD(model.parameters(), lr=1e-5)\n",
        "\n",
        "nb_epochs = 2000\n",
        "for epoch in range(nb_epochs+1):\n",
        "\n",
        "    # H(x) 계산\n",
        "    prediction = model(x_train)\n",
        "    # model(x_train)은 model.forward(x_train)와 동일함.\n",
        "\n",
        "    # cost 계산\n",
        "    cost = F.mse_loss(prediction, y_train) # <== 파이토치에서 제공하는 평균 제곱 오차 함수\n",
        "\n",
        "    # cost로 H(x) 개선하는 부분\n",
        "    # gradient를 0으로 초기화\n",
        "    optimizer.zero_grad()\n",
        "    # 비용 함수를 미분하여 gradient 계산\n",
        "    cost.backward()\n",
        "    # W와 b를 업데이트\n",
        "    optimizer.step()\n",
        "\n",
        "    if epoch % 100 == 0:\n",
        "    # 100번마다 로그 출력\n",
        "      print('Epoch {:4d}/{} Cost: {:.6f}'.format(\n",
        "          epoch, nb_epochs, cost.item()\n",
        "      ))"
      ],
      "metadata": {
        "colab": {
          "base_uri": "https://localhost:8080/"
        },
        "id": "qHgpHUJxWnQ6",
        "outputId": "a87a5dae-e846-46fc-d07d-e8b02fac9f01"
      },
      "execution_count": 23,
      "outputs": [
        {
          "output_type": "stream",
          "name": "stdout",
          "text": [
            "Epoch    0/2000 Cost: 31667.597656\n",
            "Epoch  100/2000 Cost: 0.225993\n",
            "Epoch  200/2000 Cost: 0.223911\n",
            "Epoch  300/2000 Cost: 0.221941\n",
            "Epoch  400/2000 Cost: 0.220059\n",
            "Epoch  500/2000 Cost: 0.218271\n",
            "Epoch  600/2000 Cost: 0.216575\n",
            "Epoch  700/2000 Cost: 0.214950\n",
            "Epoch  800/2000 Cost: 0.213413\n",
            "Epoch  900/2000 Cost: 0.211952\n",
            "Epoch 1000/2000 Cost: 0.210560\n",
            "Epoch 1100/2000 Cost: 0.209232\n",
            "Epoch 1200/2000 Cost: 0.207967\n",
            "Epoch 1300/2000 Cost: 0.206761\n",
            "Epoch 1400/2000 Cost: 0.205619\n",
            "Epoch 1500/2000 Cost: 0.204522\n",
            "Epoch 1600/2000 Cost: 0.203484\n",
            "Epoch 1700/2000 Cost: 0.202485\n",
            "Epoch 1800/2000 Cost: 0.201542\n",
            "Epoch 1900/2000 Cost: 0.200635\n",
            "Epoch 2000/2000 Cost: 0.199769\n"
          ]
        }
      ]
    }
  ]
}